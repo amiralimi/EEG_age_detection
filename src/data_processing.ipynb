{
 "cells": [
  {
   "cell_type": "markdown",
   "id": "06098c77",
   "metadata": {
    "id": "06098c77"
   },
   "source": [
    "# EEG data processing"
   ]
  },
  {
   "cell_type": "markdown",
   "id": "5d7d6767",
   "metadata": {
    "id": "5d7d6767"
   },
   "source": [
    "## Setup Environment"
   ]
  },
  {
   "cell_type": "code",
   "execution_count": 1,
   "id": "58fdf77c",
   "metadata": {
    "executionInfo": {
     "elapsed": 9,
     "status": "ok",
     "timestamp": 1627725373188,
     "user": {
      "displayName": "AmirAli Mirian",
      "photoUrl": "https://lh3.googleusercontent.com/a-/AOh14GjBqpN45B55kmm0XqHm953XqyxwQRMXQ71QKMyQHQ=s64",
      "userId": "05429422070826167455"
     },
     "user_tz": -270
    },
    "id": "58fdf77c",
    "pycharm": {
     "name": "#%%\n"
    }
   },
   "outputs": [],
   "source": [
    "import os"
   ]
  },
  {
   "cell_type": "code",
   "execution_count": 2,
   "id": "5e6bded5",
   "metadata": {
    "colab": {
     "base_uri": "https://localhost:8080/"
    },
    "executionInfo": {
     "elapsed": 11,
     "status": "ok",
     "timestamp": 1627725373191,
     "user": {
      "displayName": "AmirAli Mirian",
      "photoUrl": "https://lh3.googleusercontent.com/a-/AOh14GjBqpN45B55kmm0XqHm953XqyxwQRMXQ71QKMyQHQ=s64",
      "userId": "05429422070826167455"
     },
     "user_tz": -270
    },
    "id": "5e6bded5",
    "outputId": "f7f8b43d-63c6-4ba7-b3ef-9bf19cdd755e",
    "pycharm": {
     "name": "#%%\n"
    }
   },
   "outputs": [],
   "source": [
    "try:\n",
    "    from google.colab import drive\n",
    "    drive.mount('/content/gdrive')\n",
    "    IN_GOOGLE_DRIVE = True\n",
    "except Exception:\n",
    "    IN_GOOGLE_DRIVE = False"
   ]
  },
  {
   "cell_type": "code",
   "execution_count": 3,
   "id": "091d6a0d",
   "metadata": {
    "colab": {
     "base_uri": "https://localhost:8080/",
     "height": 35
    },
    "executionInfo": {
     "elapsed": 12,
     "status": "ok",
     "timestamp": 1627725373193,
     "user": {
      "displayName": "AmirAli Mirian",
      "photoUrl": "https://lh3.googleusercontent.com/a-/AOh14GjBqpN45B55kmm0XqHm953XqyxwQRMXQ71QKMyQHQ=s64",
      "userId": "05429422070826167455"
     },
     "user_tz": -270
    },
    "id": "091d6a0d",
    "outputId": "835e8606-e89e-4638-ffcc-74da3ff6dc0d",
    "pycharm": {
     "name": "#%%\n"
    }
   },
   "outputs": [
    {
     "data": {
      "text/plain": [
       "'/tf/codes/projects/eeg_tests2/src'"
      ]
     },
     "execution_count": 3,
     "metadata": {},
     "output_type": "execute_result"
    }
   ],
   "source": [
    "os.getcwd()"
   ]
  },
  {
   "cell_type": "code",
   "execution_count": 4,
   "id": "e61389da",
   "metadata": {
    "executionInfo": {
     "elapsed": 730,
     "status": "ok",
     "timestamp": 1627725376398,
     "user": {
      "displayName": "AmirAli Mirian",
      "photoUrl": "https://lh3.googleusercontent.com/a-/AOh14GjBqpN45B55kmm0XqHm953XqyxwQRMXQ71QKMyQHQ=s64",
      "userId": "05429422070826167455"
     },
     "user_tz": -270
    },
    "id": "e61389da",
    "pycharm": {
     "name": "#%%\n"
    }
   },
   "outputs": [],
   "source": [
    "PROJECT_FOLDER = 'eeg_tests2/src'\n",
    "if IN_GOOGLE_DRIVE:\n",
    "    PATH_TO_PROJECT = '/content/gdrive/MyDrive/projects/'\n",
    "    FOLDER_PATH = os.path.join(PATH_TO_PROJECT, PROJECT_FOLDER)\n",
    "elif PROJECT_FOLDER not in os.getcwd():\n",
    "    PATH_TO_PROJECT = '/tf/codes/projects/'\n",
    "    FOLDER_PATH = os.path.join(PATH_TO_PROJECT, PROJECT_FOLDER)\n",
    "else:\n",
    "    FOLDER_PATH = os.getcwd()"
   ]
  },
  {
   "cell_type": "code",
   "execution_count": 5,
   "id": "aab50ce7",
   "metadata": {
    "colab": {
     "base_uri": "https://localhost:8080/",
     "height": 35
    },
    "executionInfo": {
     "elapsed": 13,
     "status": "ok",
     "timestamp": 1627725376402,
     "user": {
      "displayName": "AmirAli Mirian",
      "photoUrl": "https://lh3.googleusercontent.com/a-/AOh14GjBqpN45B55kmm0XqHm953XqyxwQRMXQ71QKMyQHQ=s64",
      "userId": "05429422070826167455"
     },
     "user_tz": -270
    },
    "id": "aab50ce7",
    "outputId": "d807f611-9422-4b96-c899-c249b44ebed2",
    "pycharm": {
     "name": "#%%\n"
    }
   },
   "outputs": [
    {
     "data": {
      "text/plain": [
       "'/tf/codes/projects/eeg_tests2/src'"
      ]
     },
     "execution_count": 5,
     "metadata": {},
     "output_type": "execute_result"
    }
   ],
   "source": [
    "FOLDER_PATH"
   ]
  },
  {
   "cell_type": "code",
   "execution_count": 6,
   "id": "b0e718f6",
   "metadata": {
    "colab": {
     "base_uri": "https://localhost:8080/"
    },
    "executionInfo": {
     "elapsed": 6,
     "status": "ok",
     "timestamp": 1627725377880,
     "user": {
      "displayName": "AmirAli Mirian",
      "photoUrl": "https://lh3.googleusercontent.com/a-/AOh14GjBqpN45B55kmm0XqHm953XqyxwQRMXQ71QKMyQHQ=s64",
      "userId": "05429422070826167455"
     },
     "user_tz": -270
    },
    "id": "b0e718f6",
    "outputId": "0e1cd8e1-65d0-47a9-f71e-84495078b2ca",
    "pycharm": {
     "name": "#%%\n"
    }
   },
   "outputs": [
    {
     "name": "stdout",
     "output_type": "stream",
     "text": [
      "/tf/codes/projects/eeg_tests2/src\n"
     ]
    }
   ],
   "source": [
    "%cd '{FOLDER_PATH}'"
   ]
  },
  {
   "cell_type": "code",
   "execution_count": 7,
   "id": "2744363c",
   "metadata": {
    "colab": {
     "base_uri": "https://localhost:8080/",
     "height": 35
    },
    "executionInfo": {
     "elapsed": 5,
     "status": "ok",
     "timestamp": 1627725378361,
     "user": {
      "displayName": "AmirAli Mirian",
      "photoUrl": "https://lh3.googleusercontent.com/a-/AOh14GjBqpN45B55kmm0XqHm953XqyxwQRMXQ71QKMyQHQ=s64",
      "userId": "05429422070826167455"
     },
     "user_tz": -270
    },
    "id": "2744363c",
    "outputId": "179d3346-bd68-454c-c407-970dea562bd6",
    "pycharm": {
     "name": "#%%\n"
    }
   },
   "outputs": [
    {
     "data": {
      "text/plain": [
       "'/tf/codes/projects/eeg_tests2/src'"
      ]
     },
     "execution_count": 7,
     "metadata": {},
     "output_type": "execute_result"
    }
   ],
   "source": [
    "%pwd"
   ]
  },
  {
   "cell_type": "markdown",
   "id": "661bcf59",
   "metadata": {
    "id": "661bcf59"
   },
   "source": [
    "## Getting The Data"
   ]
  },
  {
   "cell_type": "code",
   "execution_count": null,
   "id": "1hCqv7aTLPIV",
   "metadata": {
    "colab": {
     "base_uri": "https://localhost:8080/"
    },
    "executionInfo": {
     "elapsed": 3958,
     "status": "ok",
     "timestamp": 1627721048608,
     "user": {
      "displayName": "AmirAli Mirian",
      "photoUrl": "https://lh3.googleusercontent.com/a-/AOh14GjBqpN45B55kmm0XqHm953XqyxwQRMXQ71QKMyQHQ=s64",
      "userId": "05429422070826167455"
     },
     "user_tz": -270
    },
    "id": "1hCqv7aTLPIV",
    "outputId": "7d4006cd-4947-4cc8-acb0-1356fd1f394a"
   },
   "outputs": [
    {
     "name": "stdout",
     "output_type": "stream",
     "text": [
      "Collecting mat73\n",
      "  Downloading mat73-0.50-py3-none-any.whl (17 kB)\n",
      "Requirement already satisfied: h5py in /usr/local/lib/python3.7/dist-packages (from mat73) (3.1.0)\n",
      "Requirement already satisfied: numpy in /usr/local/lib/python3.7/dist-packages (from mat73) (1.19.5)\n",
      "Requirement already satisfied: cached-property in /usr/local/lib/python3.7/dist-packages (from h5py->mat73) (1.5.2)\n",
      "Installing collected packages: mat73\n",
      "Successfully installed mat73-0.50\n"
     ]
    }
   ],
   "source": [
    "!pip install mat73"
   ]
  },
  {
   "cell_type": "code",
   "execution_count": null,
   "id": "b451c125",
   "metadata": {
    "id": "b451c125",
    "pycharm": {
     "name": "#%%\n"
    }
   },
   "outputs": [],
   "source": [
    "import numpy as np\n",
    "import scipy.io as sio\n",
    "import matplotlib.pyplot as plt\n",
    "import pandas as pd\n",
    "from sklearn.model_selection import train_test_split\n",
    "import pickle\n",
    "import copy"
   ]
  },
  {
   "cell_type": "code",
   "execution_count": null,
   "id": "00b853df",
   "metadata": {
    "colab": {
     "base_uri": "https://localhost:8080/"
    },
    "executionInfo": {
     "elapsed": 13,
     "status": "ok",
     "timestamp": 1627497706643,
     "user": {
      "displayName": "AmirAli Mirian",
      "photoUrl": "https://lh3.googleusercontent.com/a-/AOh14GjBqpN45B55kmm0XqHm953XqyxwQRMXQ71QKMyQHQ=s64",
      "userId": "05429422070826167455"
     },
     "user_tz": -270
    },
    "id": "00b853df",
    "outputId": "276d176b-fee7-4060-f63e-7b497e0b0b7f",
    "pycharm": {
     "name": "#%%\n"
    }
   },
   "outputs": [
    {
     "name": "stdout",
     "output_type": "stream",
     "text": [
      "\u001b[0m\u001b[01;34mclean\u001b[0m/  gvsparticipantinfo.mat  READY4DL_500.mat\n"
     ]
    }
   ],
   "source": [
    "# data files\n",
    "%ls 'data'"
   ]
  },
  {
   "cell_type": "markdown",
   "id": "ec9a0804",
   "metadata": {
    "id": "ec9a0804"
   },
   "source": [
    "### Inputs"
   ]
  },
  {
   "cell_type": "markdown",
   "id": "c0fc9d76",
   "metadata": {
    "id": "c0fc9d76"
   },
   "source": [
    "The shape of the data is **20** (PD) or **22** (HC) cells and each cell which is for each subject is **27** channels x **2000** time points x **10** trials.  \n",
    "For PD patients we have collected the data in 2 conditions: Off Medication which means they refused to take their medication (PD1) and On Medication is for the time they took their medication (PD2)"
   ]
  },
  {
   "cell_type": "code",
   "execution_count": null,
   "id": "48761932",
   "metadata": {
    "colab": {
     "base_uri": "https://localhost:8080/"
    },
    "executionInfo": {
     "elapsed": 23046,
     "status": "ok",
     "timestamp": 1627497729684,
     "user": {
      "displayName": "AmirAli Mirian",
      "photoUrl": "https://lh3.googleusercontent.com/a-/AOh14GjBqpN45B55kmm0XqHm953XqyxwQRMXQ71QKMyQHQ=s64",
      "userId": "05429422070826167455"
     },
     "user_tz": -270
    },
    "id": "48761932",
    "outputId": "d49615d7-de67-40be-8b06-3c72e6bdfb51",
    "pycharm": {
     "name": "#%%\n"
    }
   },
   "outputs": [
    {
     "data": {
      "text/plain": [
       "dict_keys(['__header__', '__version__', '__globals__', 'ALL', 'ALL_HC_GVS_OFF', 'ALL_HC_GVS_ON', 'ALL_PD_GVSOFF_MEDOFF', 'ALL_PD_GVSOFF_MEDON', 'ALL_PD_GVSON_MEDOFF', 'ALL_PD_GVSON_MEDON', 'labels'])"
      ]
     },
     "execution_count": 11,
     "metadata": {
      "tags": []
     },
     "output_type": "execute_result"
    }
   ],
   "source": [
    "READY4DL_500 = sio.loadmat('data/READY4DL_500.mat')\n",
    "READY4DL_500.keys()"
   ]
  },
  {
   "cell_type": "code",
   "execution_count": null,
   "id": "66df5b79",
   "metadata": {
    "id": "66df5b79"
   },
   "outputs": [],
   "source": [
    "data_keys = ['ALL_HC_GVS_OFF', 'ALL_PD_GVSOFF_MEDOFF', 'ALL_PD_GVSOFF_MEDON']"
   ]
  },
  {
   "cell_type": "code",
   "execution_count": null,
   "id": "ec8f715a",
   "metadata": {
    "colab": {
     "base_uri": "https://localhost:8080/"
    },
    "executionInfo": {
     "elapsed": 24,
     "status": "ok",
     "timestamp": 1627497729685,
     "user": {
      "displayName": "AmirAli Mirian",
      "photoUrl": "https://lh3.googleusercontent.com/a-/AOh14GjBqpN45B55kmm0XqHm953XqyxwQRMXQ71QKMyQHQ=s64",
      "userId": "05429422070826167455"
     },
     "user_tz": -270
    },
    "id": "ec8f715a",
    "outputId": "ce70ee2c-8324-451a-d41f-d7e49f007bf6"
   },
   "outputs": [
    {
     "name": "stdout",
     "output_type": "stream",
     "text": [
      "(22, 60)\n",
      "(20, 60)\n",
      "(20, 60)\n"
     ]
    }
   ],
   "source": [
    "for key in data_keys:\n",
    "    print(READY4DL_500[key].shape)"
   ]
  },
  {
   "cell_type": "code",
   "execution_count": null,
   "id": "9b07212c",
   "metadata": {
    "id": "9b07212c"
   },
   "outputs": [],
   "source": [
    "def get_data(items, keys):\n",
    "    all_data = list()\n",
    "    for key in keys:\n",
    "        for item in items[key]:\n",
    "            all_data.append({'data':item})\n",
    "    return all_data"
   ]
  },
  {
   "cell_type": "code",
   "execution_count": null,
   "id": "e0f6c5b2",
   "metadata": {
    "id": "e0f6c5b2"
   },
   "outputs": [],
   "source": [
    "# shamdata_tlgo proccess\n",
    "\n",
    "all_data = get_data(READY4DL_500, data_keys)"
   ]
  },
  {
   "cell_type": "code",
   "execution_count": null,
   "id": "b3d3f775",
   "metadata": {
    "colab": {
     "base_uri": "https://localhost:8080/"
    },
    "executionInfo": {
     "elapsed": 23,
     "status": "ok",
     "timestamp": 1627497729687,
     "user": {
      "displayName": "AmirAli Mirian",
      "photoUrl": "https://lh3.googleusercontent.com/a-/AOh14GjBqpN45B55kmm0XqHm953XqyxwQRMXQ71QKMyQHQ=s64",
      "userId": "05429422070826167455"
     },
     "user_tz": -270
    },
    "id": "b3d3f775",
    "outputId": "3f70c0e8-c258-4dd3-8bab-0686c34ae7e4"
   },
   "outputs": [
    {
     "data": {
      "text/plain": [
       "62"
      ]
     },
     "execution_count": 16,
     "metadata": {
      "tags": []
     },
     "output_type": "execute_result"
    }
   ],
   "source": [
    "len(all_data)"
   ]
  },
  {
   "cell_type": "markdown",
   "id": "00177bc4",
   "metadata": {
    "id": "00177bc4"
   },
   "source": [
    "### Outputs"
   ]
  },
  {
   "cell_type": "code",
   "execution_count": null,
   "id": "d6375ba1",
   "metadata": {
    "colab": {
     "base_uri": "https://localhost:8080/"
    },
    "executionInfo": {
     "elapsed": 21,
     "status": "ok",
     "timestamp": 1627497729687,
     "user": {
      "displayName": "AmirAli Mirian",
      "photoUrl": "https://lh3.googleusercontent.com/a-/AOh14GjBqpN45B55kmm0XqHm953XqyxwQRMXQ71QKMyQHQ=s64",
      "userId": "05429422070826167455"
     },
     "user_tz": -270
    },
    "id": "d6375ba1",
    "outputId": "73db208e-990f-4899-c811-416ca9caeb03"
   },
   "outputs": [
    {
     "data": {
      "text/plain": [
       "dict_keys(['__header__', '__version__', '__globals__', 'hcinfo', 'hcinfonames', 'pdinfo', 'pdinfonames'])"
      ]
     },
     "execution_count": 17,
     "metadata": {
      "tags": []
     },
     "output_type": "execute_result"
    }
   ],
   "source": [
    "gvsparticipantinfo = sio.loadmat('data/gvsparticipantinfo.mat')\n",
    "gvsparticipantinfo.keys()"
   ]
  },
  {
   "cell_type": "code",
   "execution_count": null,
   "id": "a5ccffdb",
   "metadata": {
    "colab": {
     "base_uri": "https://localhost:8080/"
    },
    "executionInfo": {
     "elapsed": 19,
     "status": "ok",
     "timestamp": 1627497729687,
     "user": {
      "displayName": "AmirAli Mirian",
      "photoUrl": "https://lh3.googleusercontent.com/a-/AOh14GjBqpN45B55kmm0XqHm953XqyxwQRMXQ71QKMyQHQ=s64",
      "userId": "05429422070826167455"
     },
     "user_tz": -270
    },
    "id": "a5ccffdb",
    "outputId": "b07e6a93-4196-47ab-bb60-3687d99185ff"
   },
   "outputs": [
    {
     "data": {
      "text/plain": [
       "62"
      ]
     },
     "execution_count": 18,
     "metadata": {
      "tags": []
     },
     "output_type": "execute_result"
    }
   ],
   "source": [
    "outputs_age = [\n",
    "    *gvsparticipantinfo['hcinfo'][:, 0].tolist(),\n",
    "    *gvsparticipantinfo['pdinfo'][:, 0].tolist(),\n",
    "    *gvsparticipantinfo['pdinfo'][:, 0].tolist(),\n",
    "]\n",
    "len(outputs_age)"
   ]
  },
  {
   "cell_type": "code",
   "execution_count": null,
   "id": "b5bc0f74",
   "metadata": {
    "colab": {
     "base_uri": "https://localhost:8080/"
    },
    "executionInfo": {
     "elapsed": 19,
     "status": "ok",
     "timestamp": 1627497729688,
     "user": {
      "displayName": "AmirAli Mirian",
      "photoUrl": "https://lh3.googleusercontent.com/a-/AOh14GjBqpN45B55kmm0XqHm953XqyxwQRMXQ71QKMyQHQ=s64",
      "userId": "05429422070826167455"
     },
     "user_tz": -270
    },
    "id": "b5bc0f74",
    "outputId": "7b247713-6d67-4042-bf23-c123099f0a29"
   },
   "outputs": [
    {
     "data": {
      "text/plain": [
       "62"
      ]
     },
     "execution_count": 19,
     "metadata": {
      "tags": []
     },
     "output_type": "execute_result"
    }
   ],
   "source": [
    "outputs_gender = [\n",
    "    *gvsparticipantinfo['hcinfo'][:, 1].tolist(),\n",
    "    *gvsparticipantinfo['pdinfo'][:, 1].tolist(),\n",
    "    *gvsparticipantinfo['pdinfo'][:, 1].tolist(),\n",
    "]\n",
    "len(outputs_gender)"
   ]
  },
  {
   "cell_type": "code",
   "execution_count": null,
   "id": "1bc3d607",
   "metadata": {
    "colab": {
     "base_uri": "https://localhost:8080/"
    },
    "executionInfo": {
     "elapsed": 19,
     "status": "ok",
     "timestamp": 1627497729688,
     "user": {
      "displayName": "AmirAli Mirian",
      "photoUrl": "https://lh3.googleusercontent.com/a-/AOh14GjBqpN45B55kmm0XqHm953XqyxwQRMXQ71QKMyQHQ=s64",
      "userId": "05429422070826167455"
     },
     "user_tz": -270
    },
    "id": "1bc3d607",
    "outputId": "4daa7583-9eee-4ea5-886c-617b4439cff8"
   },
   "outputs": [
    {
     "data": {
      "text/plain": [
       "62"
      ]
     },
     "execution_count": 20,
     "metadata": {
      "tags": []
     },
     "output_type": "execute_result"
    }
   ],
   "source": [
    "has_pd = [*[0] * 22, *[1]*40]\n",
    "len(has_pd)"
   ]
  },
  {
   "cell_type": "code",
   "execution_count": null,
   "id": "70f3cd23",
   "metadata": {
    "colab": {
     "base_uri": "https://localhost:8080/"
    },
    "executionInfo": {
     "elapsed": 19,
     "status": "ok",
     "timestamp": 1627497729689,
     "user": {
      "displayName": "AmirAli Mirian",
      "photoUrl": "https://lh3.googleusercontent.com/a-/AOh14GjBqpN45B55kmm0XqHm953XqyxwQRMXQ71QKMyQHQ=s64",
      "userId": "05429422070826167455"
     },
     "user_tz": -270
    },
    "id": "70f3cd23",
    "outputId": "6e2527b0-94d5-43d1-c118-2214e3b8e071"
   },
   "outputs": [
    {
     "data": {
      "text/plain": [
       "62"
      ]
     },
     "execution_count": 21,
     "metadata": {
      "tags": []
     },
     "output_type": "execute_result"
    }
   ],
   "source": [
    "taken_med = [*[0] * 22, *[0]*20, *[1]*20]\n",
    "len(taken_med)"
   ]
  },
  {
   "cell_type": "code",
   "execution_count": null,
   "id": "8717894b",
   "metadata": {
    "colab": {
     "base_uri": "https://localhost:8080/"
    },
    "executionInfo": {
     "elapsed": 17,
     "status": "ok",
     "timestamp": 1627497729689,
     "user": {
      "displayName": "AmirAli Mirian",
      "photoUrl": "https://lh3.googleusercontent.com/a-/AOh14GjBqpN45B55kmm0XqHm953XqyxwQRMXQ71QKMyQHQ=s64",
      "userId": "05429422070826167455"
     },
     "user_tz": -270
    },
    "id": "8717894b",
    "outputId": "208d924a-7ad4-4555-e3e5-bf5d310e5ba5",
    "pycharm": {
     "name": "#%%\n"
    }
   },
   "outputs": [
    {
     "data": {
      "text/plain": [
       "62"
      ]
     },
     "execution_count": 22,
     "metadata": {
      "tags": []
     },
     "output_type": "execute_result"
    }
   ],
   "source": [
    "UPDRS_string = '26 17 11 37 29 8 39 35 12 30 13 31 34 32 14 21 29 20 18 14'.split()\n",
    "UPDRS = [int(x) for x in UPDRS_string]\n",
    "all_UDPRS = [*[0]*22, *UPDRS, *UPDRS]\n",
    "len(all_UDPRS)"
   ]
  },
  {
   "cell_type": "markdown",
   "id": "ae8ba695",
   "metadata": {
    "id": "ae8ba695"
   },
   "source": [
    "### Creating a clean data dictionary"
   ]
  },
  {
   "cell_type": "code",
   "execution_count": null,
   "id": "8eb9a2d7",
   "metadata": {
    "id": "8eb9a2d7"
   },
   "outputs": [],
   "source": [
    "for i in range(len(outputs_age)):\n",
    "    all_data[i]['age'] = outputs_age[i]\n",
    "    all_data[i]['gender'] = outputs_gender[i]\n",
    "    all_data[i]['has_pd'] = has_pd[i]\n",
    "    all_data[i]['taken_med'] = taken_med[i]\n",
    "    all_data[i]['UPDRS'] = all_UDPRS[i]"
   ]
  },
  {
   "cell_type": "markdown",
   "id": "5762b1d3",
   "metadata": {
    "id": "5762b1d3"
   },
   "source": [
    "### Check for nan"
   ]
  },
  {
   "cell_type": "code",
   "execution_count": null,
   "id": "4dc309c0",
   "metadata": {
    "id": "4dc309c0"
   },
   "outputs": [],
   "source": [
    "for i in range(len(all_data)):\n",
    "    for j in range(all_data[i]['data'].shape[0]):\n",
    "        current_trial = all_data[i]['data'][j]\n",
    "        if np.isnan(current_trial).any() != 0:\n",
    "            print(i, j)"
   ]
  },
  {
   "cell_type": "markdown",
   "id": "5a632707",
   "metadata": {
    "id": "5a632707"
   },
   "source": [
    "### Some Analysis"
   ]
  },
  {
   "cell_type": "code",
   "execution_count": null,
   "id": "6da235b0",
   "metadata": {
    "colab": {
     "base_uri": "https://localhost:8080/",
     "height": 419
    },
    "executionInfo": {
     "elapsed": 53438,
     "status": "ok",
     "timestamp": 1627497783111,
     "user": {
      "displayName": "AmirAli Mirian",
      "photoUrl": "https://lh3.googleusercontent.com/a-/AOh14GjBqpN45B55kmm0XqHm953XqyxwQRMXQ71QKMyQHQ=s64",
      "userId": "05429422070826167455"
     },
     "user_tz": -270
    },
    "id": "6da235b0",
    "outputId": "88e2762f-adab-43e1-e2dd-f2ff7fdd7d27"
   },
   "outputs": [
    {
     "data": {
      "text/html": [
       "<div>\n",
       "<style scoped>\n",
       "    .dataframe tbody tr th:only-of-type {\n",
       "        vertical-align: middle;\n",
       "    }\n",
       "\n",
       "    .dataframe tbody tr th {\n",
       "        vertical-align: top;\n",
       "    }\n",
       "\n",
       "    .dataframe thead th {\n",
       "        text-align: right;\n",
       "    }\n",
       "</style>\n",
       "<table border=\"1\" class=\"dataframe\">\n",
       "  <thead>\n",
       "    <tr style=\"text-align: right;\">\n",
       "      <th></th>\n",
       "      <th>data</th>\n",
       "      <th>age</th>\n",
       "      <th>gender</th>\n",
       "      <th>has_pd</th>\n",
       "      <th>taken_med</th>\n",
       "      <th>UPDRS</th>\n",
       "    </tr>\n",
       "  </thead>\n",
       "  <tbody>\n",
       "    <tr>\n",
       "      <th>0</th>\n",
       "      <td>[[[0.4386822858566465, 0.4793236167114357, 0.4...</td>\n",
       "      <td>65</td>\n",
       "      <td>1</td>\n",
       "      <td>0</td>\n",
       "      <td>0</td>\n",
       "      <td>0</td>\n",
       "    </tr>\n",
       "    <tr>\n",
       "      <th>1</th>\n",
       "      <td>[[[0.3634937413088139, 0.42090980923134125, 0....</td>\n",
       "      <td>78</td>\n",
       "      <td>1</td>\n",
       "      <td>0</td>\n",
       "      <td>0</td>\n",
       "      <td>0</td>\n",
       "    </tr>\n",
       "    <tr>\n",
       "      <th>2</th>\n",
       "      <td>[[[0.43592762011065456, 0.4311134018811787, 0....</td>\n",
       "      <td>72</td>\n",
       "      <td>1</td>\n",
       "      <td>0</td>\n",
       "      <td>0</td>\n",
       "      <td>0</td>\n",
       "    </tr>\n",
       "    <tr>\n",
       "      <th>3</th>\n",
       "      <td>[[[0.47486760758308577, 0.542854275784628, 0.5...</td>\n",
       "      <td>71</td>\n",
       "      <td>0</td>\n",
       "      <td>0</td>\n",
       "      <td>0</td>\n",
       "      <td>0</td>\n",
       "    </tr>\n",
       "    <tr>\n",
       "      <th>4</th>\n",
       "      <td>[[[0.5361903678537211, 0.5343775091532127, 0.4...</td>\n",
       "      <td>67</td>\n",
       "      <td>0</td>\n",
       "      <td>0</td>\n",
       "      <td>0</td>\n",
       "      <td>0</td>\n",
       "    </tr>\n",
       "    <tr>\n",
       "      <th>...</th>\n",
       "      <td>...</td>\n",
       "      <td>...</td>\n",
       "      <td>...</td>\n",
       "      <td>...</td>\n",
       "      <td>...</td>\n",
       "      <td>...</td>\n",
       "    </tr>\n",
       "    <tr>\n",
       "      <th>57</th>\n",
       "      <td>[[[0.5206956269354001, 0.5404680091802685, 0.5...</td>\n",
       "      <td>70</td>\n",
       "      <td>0</td>\n",
       "      <td>1</td>\n",
       "      <td>1</td>\n",
       "      <td>21</td>\n",
       "    </tr>\n",
       "    <tr>\n",
       "      <th>58</th>\n",
       "      <td>[[[0.5573232158235693, 0.5636588162080876, 0.4...</td>\n",
       "      <td>60</td>\n",
       "      <td>0</td>\n",
       "      <td>1</td>\n",
       "      <td>1</td>\n",
       "      <td>29</td>\n",
       "    </tr>\n",
       "    <tr>\n",
       "      <th>59</th>\n",
       "      <td>[[[0.44038808715609135, 0.46312595634449283, 0...</td>\n",
       "      <td>57</td>\n",
       "      <td>0</td>\n",
       "      <td>1</td>\n",
       "      <td>1</td>\n",
       "      <td>20</td>\n",
       "    </tr>\n",
       "    <tr>\n",
       "      <th>60</th>\n",
       "      <td>[[[0.4996925908931075, 0.46702347101618, 0.444...</td>\n",
       "      <td>65</td>\n",
       "      <td>0</td>\n",
       "      <td>1</td>\n",
       "      <td>1</td>\n",
       "      <td>18</td>\n",
       "    </tr>\n",
       "    <tr>\n",
       "      <th>61</th>\n",
       "      <td>[[[0.48800633988419306, 0.49862780226675224, 0...</td>\n",
       "      <td>66</td>\n",
       "      <td>0</td>\n",
       "      <td>1</td>\n",
       "      <td>1</td>\n",
       "      <td>14</td>\n",
       "    </tr>\n",
       "  </tbody>\n",
       "</table>\n",
       "<p>62 rows × 6 columns</p>\n",
       "</div>"
      ],
      "text/plain": [
       "                                                 data  age  ...  taken_med  UPDRS\n",
       "0   [[[0.4386822858566465, 0.4793236167114357, 0.4...   65  ...          0      0\n",
       "1   [[[0.3634937413088139, 0.42090980923134125, 0....   78  ...          0      0\n",
       "2   [[[0.43592762011065456, 0.4311134018811787, 0....   72  ...          0      0\n",
       "3   [[[0.47486760758308577, 0.542854275784628, 0.5...   71  ...          0      0\n",
       "4   [[[0.5361903678537211, 0.5343775091532127, 0.4...   67  ...          0      0\n",
       "..                                                ...  ...  ...        ...    ...\n",
       "57  [[[0.5206956269354001, 0.5404680091802685, 0.5...   70  ...          1     21\n",
       "58  [[[0.5573232158235693, 0.5636588162080876, 0.4...   60  ...          1     29\n",
       "59  [[[0.44038808715609135, 0.46312595634449283, 0...   57  ...          1     20\n",
       "60  [[[0.4996925908931075, 0.46702347101618, 0.444...   65  ...          1     18\n",
       "61  [[[0.48800633988419306, 0.49862780226675224, 0...   66  ...          1     14\n",
       "\n",
       "[62 rows x 6 columns]"
      ]
     },
     "execution_count": 25,
     "metadata": {
      "tags": []
     },
     "output_type": "execute_result"
    }
   ],
   "source": [
    "df = pd.DataFrame(all_data)\n",
    "df"
   ]
  },
  {
   "cell_type": "code",
   "execution_count": null,
   "id": "596c20b4",
   "metadata": {
    "colab": {
     "base_uri": "https://localhost:8080/",
     "height": 279
    },
    "executionInfo": {
     "elapsed": 22,
     "status": "ok",
     "timestamp": 1627497783111,
     "user": {
      "displayName": "AmirAli Mirian",
      "photoUrl": "https://lh3.googleusercontent.com/a-/AOh14GjBqpN45B55kmm0XqHm953XqyxwQRMXQ71QKMyQHQ=s64",
      "userId": "05429422070826167455"
     },
     "user_tz": -270
    },
    "id": "596c20b4",
    "outputId": "b8c91743-45ea-4582-e821-3080d4a84ef5",
    "scrolled": true
   },
   "outputs": [
    {
     "data": {
      "text/plain": [
       "<matplotlib.axes._subplots.AxesSubplot at 0x7f25cbd2f190>"
      ]
     },
     "execution_count": 26,
     "metadata": {
      "tags": []
     },
     "output_type": "execute_result"
    },
    {
     "data": {
      "image/png": "[encoded data removed]",
      "text/plain": [
       "<Figure size 432x288 with 1 Axes>"
      ]
     },
     "metadata": {
      "needs_background": "light",
      "tags": []
     },
     "output_type": "display_data"
    }
   ],
   "source": [
    "df['gender'].value_counts().plot.bar()"
   ]
  },
  {
   "cell_type": "code",
   "execution_count": null,
   "id": "c1fb4c15",
   "metadata": {
    "colab": {
     "base_uri": "https://localhost:8080/",
     "height": 285
    },
    "executionInfo": {
     "elapsed": 672,
     "status": "ok",
     "timestamp": 1627497783768,
     "user": {
      "displayName": "AmirAli Mirian",
      "photoUrl": "https://lh3.googleusercontent.com/a-/AOh14GjBqpN45B55kmm0XqHm953XqyxwQRMXQ71QKMyQHQ=s64",
      "userId": "05429422070826167455"
     },
     "user_tz": -270
    },
    "id": "c1fb4c15",
    "outputId": "7b23a768-acee-4f1f-bfae-b61b43a4c66a"
   },
   "outputs": [
    {
     "data": {
      "text/plain": [
       "<matplotlib.axes._subplots.AxesSubplot at 0x7f25cbc6ce50>"
      ]
     },
     "execution_count": 27,
     "metadata": {
      "tags": []
     },
     "output_type": "execute_result"
    },
    {
     "data": {
      "image/png": "[encoded data removed]",
      "text/plain": [
       "<Figure size 432x288 with 1 Axes>"
      ]
     },
     "metadata": {
      "needs_background": "light",
      "tags": []
     },
     "output_type": "display_data"
    }
   ],
   "source": [
    "df['age'].value_counts().plot.bar()"
   ]
  },
  {
   "cell_type": "code",
   "execution_count": null,
   "id": "bd1852fe",
   "metadata": {
    "colab": {
     "base_uri": "https://localhost:8080/",
     "height": 285
    },
    "executionInfo": {
     "elapsed": 13,
     "status": "ok",
     "timestamp": 1627497783768,
     "user": {
      "displayName": "AmirAli Mirian",
      "photoUrl": "https://lh3.googleusercontent.com/a-/AOh14GjBqpN45B55kmm0XqHm953XqyxwQRMXQ71QKMyQHQ=s64",
      "userId": "05429422070826167455"
     },
     "user_tz": -270
    },
    "id": "bd1852fe",
    "outputId": "dba5c5c5-2dff-498f-d467-2dce05c574f6"
   },
   "outputs": [
    {
     "data": {
      "text/plain": [
       "<matplotlib.axes._subplots.AxesSubplot at 0x7f25cb488b50>"
      ]
     },
     "execution_count": 28,
     "metadata": {
      "tags": []
     },
     "output_type": "execute_result"
    },
    {
     "data": {
      "image/png": "[encoded data removed]",
      "text/plain": [
       "<Figure size 432x288 with 1 Axes>"
      ]
     },
     "metadata": {
      "needs_background": "light",
      "tags": []
     },
     "output_type": "display_data"
    }
   ],
   "source": [
    "df['UPDRS'][df['has_pd'] == 1].value_counts().plot.bar()"
   ]
  },
  {
   "cell_type": "code",
   "execution_count": null,
   "id": "827ca4f2",
   "metadata": {
    "colab": {
     "base_uri": "https://localhost:8080/",
     "height": 1000
    },
    "executionInfo": {
     "elapsed": 1628,
     "status": "ok",
     "timestamp": 1627497785387,
     "user": {
      "displayName": "AmirAli Mirian",
      "photoUrl": "https://lh3.googleusercontent.com/a-/AOh14GjBqpN45B55kmm0XqHm953XqyxwQRMXQ71QKMyQHQ=s64",
      "userId": "05429422070826167455"
     },
     "user_tz": -270
    },
    "id": "827ca4f2",
    "outputId": "003c2311-5114-4406-878d-22f2bcb7166c",
    "scrolled": true
   },
   "outputs": [
    {
     "name": "stdout",
     "output_type": "stream",
     "text": [
      "36 11 1\n"
     ]
    },
    {
     "data": {
      "image/png": "[encoded data removed]",
      "text/plain": [
       "<Figure size 432x288 with 1 Axes>"
      ]
     },
     "metadata": {
      "needs_background": "light",
      "tags": []
     },
     "output_type": "display_data"
    },
    {
     "name": "stdout",
     "output_type": "stream",
     "text": [
      "37 56 10\n"
     ]
    },
    {
     "data": {
      "image/png": "[encoded data removed]",
      "text/plain": [
       "<Figure size 432x288 with 1 Axes>"
      ]
     },
     "metadata": {
      "needs_background": "light",
      "tags": []
     },
     "output_type": "display_data"
    },
    {
     "name": "stdout",
     "output_type": "stream",
     "text": [
      "32 50 14\n"
     ]
    },
    {
     "data": {
      "image/png": "[encoded data removed]",
      "text/plain": [
       "<Figure size 432x288 with 1 Axes>"
      ]
     },
     "metadata": {
      "needs_background": "light",
      "tags": []
     },
     "output_type": "display_data"
    },
    {
     "name": "stdout",
     "output_type": "stream",
     "text": [
      "29 36 26\n"
     ]
    },
    {
     "data": {
      "image/png": "[encoded data removed]",
      "text/plain": [
       "<Figure size 432x288 with 1 Axes>"
      ]
     },
     "metadata": {
      "needs_background": "light",
      "tags": []
     },
     "output_type": "display_data"
    },
    {
     "name": "stdout",
     "output_type": "stream",
     "text": [
      "53 57 14\n"
     ]
    },
    {
     "data": {
      "image/png": "[encoded data removed]",
      "text/plain": [
       "<Figure size 432x288 with 1 Axes>"
      ]
     },
     "metadata": {
      "needs_background": "light",
      "tags": []
     },
     "output_type": "display_data"
    }
   ],
   "source": [
    "for _ in range(5):\n",
    "    data_index = np.random.randint(len(all_data))\n",
    "    trial_index = np.random.randint(len(all_data[0]['data']))\n",
    "    channel_index = np.random.randint(all_data[0]['data'][0].shape[1])\n",
    "    print(data_index, trial_index, channel_index)\n",
    "    plt.plot(all_data[data_index]['data'][trial_index][:, channel_index])\n",
    "    plt.show()"
   ]
  },
  {
   "cell_type": "markdown",
   "id": "ed2b9c27",
   "metadata": {
    "id": "ed2b9c27"
   },
   "source": [
    "### Moving the Data"
   ]
  },
  {
   "cell_type": "code",
   "execution_count": null,
   "id": "57755e23",
   "metadata": {
    "id": "57755e23"
   },
   "outputs": [],
   "source": [
    "splited_data = list()\n",
    "for i in range(len(all_data)):\n",
    "    current = all_data[i]\n",
    "    for j in range(current['data'].shape[0]):\n",
    "        splited_data.append(\n",
    "            copy.deepcopy(current)\n",
    "        )\n",
    "        splited_data[-1]['data'] = current['data'][j]"
   ]
  },
  {
   "cell_type": "code",
   "execution_count": null,
   "id": "85205716",
   "metadata": {
    "colab": {
     "base_uri": "https://localhost:8080/"
    },
    "executionInfo": {
     "elapsed": 9,
     "status": "ok",
     "timestamp": 1627497787962,
     "user": {
      "displayName": "AmirAli Mirian",
      "photoUrl": "https://lh3.googleusercontent.com/a-/AOh14GjBqpN45B55kmm0XqHm953XqyxwQRMXQ71QKMyQHQ=s64",
      "userId": "05429422070826167455"
     },
     "user_tz": -270
    },
    "id": "85205716",
    "outputId": "38928ccf-b5b9-43e4-9ecc-794c6d71ec81",
    "scrolled": true
   },
   "outputs": [
    {
     "data": {
      "text/plain": [
       "3720"
      ]
     },
     "execution_count": 31,
     "metadata": {
      "tags": []
     },
     "output_type": "execute_result"
    }
   ],
   "source": [
    "len(splited_data)"
   ]
  },
  {
   "cell_type": "markdown",
   "id": "2d6383bb",
   "metadata": {
    "id": "2d6383bb"
   },
   "source": [
    "### Saving clean data"
   ]
  },
  {
   "cell_type": "code",
   "execution_count": null,
   "id": "611ec9a8",
   "metadata": {
    "colab": {
     "base_uri": "https://localhost:8080/"
    },
    "executionInfo": {
     "elapsed": 8,
     "status": "ok",
     "timestamp": 1627497787963,
     "user": {
      "displayName": "AmirAli Mirian",
      "photoUrl": "https://lh3.googleusercontent.com/a-/AOh14GjBqpN45B55kmm0XqHm953XqyxwQRMXQ71QKMyQHQ=s64",
      "userId": "05429422070826167455"
     },
     "user_tz": -270
    },
    "id": "611ec9a8",
    "outputId": "0d1e3f32-ee74-44d0-82e1-eaac340180d4"
   },
   "outputs": [
    {
     "data": {
      "text/plain": [
       "dict_keys(['data', 'age', 'gender', 'has_pd', 'taken_med', 'UPDRS'])"
      ]
     },
     "execution_count": 32,
     "metadata": {
      "tags": []
     },
     "output_type": "execute_result"
    }
   ],
   "source": [
    "splited_data[0].keys()"
   ]
  },
  {
   "cell_type": "code",
   "execution_count": null,
   "id": "c605ba47",
   "metadata": {
    "colab": {
     "base_uri": "https://localhost:8080/"
    },
    "executionInfo": {
     "elapsed": 6,
     "status": "ok",
     "timestamp": 1627497787963,
     "user": {
      "displayName": "AmirAli Mirian",
      "photoUrl": "https://lh3.googleusercontent.com/a-/AOh14GjBqpN45B55kmm0XqHm953XqyxwQRMXQ71QKMyQHQ=s64",
      "userId": "05429422070826167455"
     },
     "user_tz": -270
    },
    "id": "c605ba47",
    "outputId": "5b2cece6-ad09-43a2-e1c3-79b49dd08b3c"
   },
   "outputs": [
    {
     "data": {
      "text/plain": [
       "(3720, 500, 27)"
      ]
     },
     "execution_count": 33,
     "metadata": {
      "tags": []
     },
     "output_type": "execute_result"
    }
   ],
   "source": [
    "all_inputs = np.array([x['data'] for x in splited_data])\n",
    "all_inputs.shape"
   ]
  },
  {
   "cell_type": "code",
   "execution_count": null,
   "id": "05af4cc4",
   "metadata": {
    "id": "05af4cc4"
   },
   "outputs": [],
   "source": [
    "all_info = {\n",
    "    'age': np.array([x['age'] for x in splited_data]), \n",
    "    'gender': np.array([x['gender'] for x in splited_data]), \n",
    "    'has_pd': np.array([x['has_pd'] for x in splited_data]), \n",
    "    'taken_med': np.array([x['taken_med'] for x in splited_data]), \n",
    "    'UPDRS': np.array([x['UPDRS'] for x in splited_data]), \n",
    "}"
   ]
  },
  {
   "cell_type": "code",
   "execution_count": null,
   "id": "51a62334",
   "metadata": {
    "id": "51a62334"
   },
   "outputs": [],
   "source": [
    "scipy.io.savemat(\n",
    "    'data/clean/clean_trials.mat', \n",
    "    {'trials': all_inputs}\n",
    ")"
   ]
  },
  {
   "cell_type": "code",
   "execution_count": null,
   "id": "93b2b6d5",
   "metadata": {
    "id": "93b2b6d5"
   },
   "outputs": [],
   "source": [
    "scipy.io.savemat('data/clean/clean_info.mat', all_info)"
   ]
  },
  {
   "cell_type": "markdown",
   "id": "6643855d",
   "metadata": {
    "id": "6643855d"
   },
   "source": [
    "## Split signals by frequency"
   ]
  },
  {
   "cell_type": "markdown",
   "id": "z--aqAP_0SAA",
   "metadata": {
    "id": "z--aqAP_0SAA"
   },
   "source": [
    "### Imports"
   ]
  },
  {
   "cell_type": "code",
   "execution_count": 8,
   "id": "sDC9kX5BvNAP",
   "metadata": {
    "colab": {
     "base_uri": "https://localhost:8080/"
    },
    "executionInfo": {
     "elapsed": 3514,
     "status": "ok",
     "timestamp": 1627725386597,
     "user": {
      "displayName": "AmirAli Mirian",
      "photoUrl": "https://lh3.googleusercontent.com/a-/AOh14GjBqpN45B55kmm0XqHm953XqyxwQRMXQ71QKMyQHQ=s64",
      "userId": "05429422070826167455"
     },
     "user_tz": -270
    },
    "id": "sDC9kX5BvNAP",
    "outputId": "79ae4365-0473-46c6-a110-c130c60b5d6e"
   },
   "outputs": [
    {
     "name": "stdout",
     "output_type": "stream",
     "text": [
      "Requirement already satisfied: mat73 in /usr/local/lib/python3.7/dist-packages (0.50)\n",
      "Requirement already satisfied: h5py in /usr/local/lib/python3.7/dist-packages (from mat73) (3.1.0)\n",
      "Requirement already satisfied: numpy in /usr/local/lib/python3.7/dist-packages (from mat73) (1.19.5)\n",
      "Requirement already satisfied: cached-property in /usr/local/lib/python3.7/dist-packages (from h5py->mat73) (1.5.2)\n"
     ]
    }
   ],
   "source": [
    "!pip install mat73"
   ]
  },
  {
   "cell_type": "code",
   "execution_count": 8,
   "id": "B3DhZx1svHkk",
   "metadata": {
    "executionInfo": {
     "elapsed": 623,
     "status": "ok",
     "timestamp": 1627725387215,
     "user": {
      "displayName": "AmirAli Mirian",
      "photoUrl": "https://lh3.googleusercontent.com/a-/AOh14GjBqpN45B55kmm0XqHm953XqyxwQRMXQ71QKMyQHQ=s64",
      "userId": "05429422070826167455"
     },
     "user_tz": -270
    },
    "id": "B3DhZx1svHkk"
   },
   "outputs": [
    {
     "name": "stderr",
     "output_type": "stream",
     "text": [
      "Matplotlib created a temporary config/cache directory at /tmp/matplotlib-lhjmb4pe because the default path (/.config/matplotlib) is not a writable directory; it is highly recommended to set the MPLCONFIGDIR environment variable to a writable directory, in particular to speed up the import of Matplotlib and to better support multiprocessing.\n"
     ]
    }
   ],
   "source": [
    "import numpy as np\n",
    "import scipy.io as sio\n",
    "import matplotlib.pyplot as plt\n",
    "import pandas as pd\n",
    "from sklearn.model_selection import train_test_split\n",
    "import pickle\n",
    "import mat73"
   ]
  },
  {
   "cell_type": "markdown",
   "id": "BuSlgZnX0YT1",
   "metadata": {
    "id": "BuSlgZnX0YT1"
   },
   "source": [
    "### Data"
   ]
  },
  {
   "cell_type": "markdown",
   "id": "ec8b7f73",
   "metadata": {
    "id": "ec8b7f73"
   },
   "source": [
    "There are 5 frequency bands defined on brainwaves that are defined like this:\n",
    "* Delta: 0.5 -4 Hz\n",
    "* Theta: 4 - 8 Hz\n",
    "* Alpha: 8 - 12 Hz\n",
    "* Beta: 12 - 30 Hz\n",
    "* Gamma: 30 - 45 Hz"
   ]
  },
  {
   "cell_type": "markdown",
   "id": "2040cd63",
   "metadata": {
    "id": "2040cd63"
   },
   "source": [
    "Spliting the data to this channels, we used the [bandpass filter](https://www.mathworks.com/help/signal/ref/bandpass.html) in matlab. There is `apply_bandpass` function that applies bandpass filter on the data. there is `split_frequency` script that applies this function on train, validation and test data."
   ]
  },
  {
   "cell_type": "code",
   "execution_count": 9,
   "id": "cfb9b561",
   "metadata": {
    "executionInfo": {
     "elapsed": 72959,
     "status": "ok",
     "timestamp": 1627725462715,
     "user": {
      "displayName": "AmirAli Mirian",
      "photoUrl": "https://lh3.googleusercontent.com/a-/AOh14GjBqpN45B55kmm0XqHm953XqyxwQRMXQ71QKMyQHQ=s64",
      "userId": "05429422070826167455"
     },
     "user_tz": -270
    },
    "id": "cfb9b561"
   },
   "outputs": [],
   "source": [
    "splitted_trials = mat73.loadmat('data/clean/clean_trials_splited.mat')"
   ]
  },
  {
   "cell_type": "code",
   "execution_count": 10,
   "id": "ec6107cb",
   "metadata": {
    "executionInfo": {
     "elapsed": 19,
     "status": "ok",
     "timestamp": 1627725462716,
     "user": {
      "displayName": "AmirAli Mirian",
      "photoUrl": "https://lh3.googleusercontent.com/a-/AOh14GjBqpN45B55kmm0XqHm953XqyxwQRMXQ71QKMyQHQ=s64",
      "userId": "05429422070826167455"
     },
     "user_tz": -270
    },
    "id": "ec6107cb"
   },
   "outputs": [],
   "source": [
    "splitted_trials = splitted_trials['result']"
   ]
  },
  {
   "cell_type": "code",
   "execution_count": 11,
   "id": "dcb27004",
   "metadata": {
    "colab": {
     "base_uri": "https://localhost:8080/"
    },
    "executionInfo": {
     "elapsed": 19,
     "status": "ok",
     "timestamp": 1627725462717,
     "user": {
      "displayName": "AmirAli Mirian",
      "photoUrl": "https://lh3.googleusercontent.com/a-/AOh14GjBqpN45B55kmm0XqHm953XqyxwQRMXQ71QKMyQHQ=s64",
      "userId": "05429422070826167455"
     },
     "user_tz": -270
    },
    "id": "dcb27004",
    "outputId": "e2b01037-75d9-4fa9-d4a6-b9262b67af9f"
   },
   "outputs": [
    {
     "data": {
      "text/plain": [
       "dict_keys(['alpha', 'beta', 'delta', 'gamma', 'raw', 'theta'])"
      ]
     },
     "execution_count": 11,
     "metadata": {},
     "output_type": "execute_result"
    }
   ],
   "source": [
    "splitted_trials.keys()"
   ]
  },
  {
   "cell_type": "code",
   "execution_count": 12,
   "id": "O98kiQAYxiA_",
   "metadata": {
    "executionInfo": {
     "elapsed": 393,
     "status": "ok",
     "timestamp": 1627725469808,
     "user": {
      "displayName": "AmirAli Mirian",
      "photoUrl": "https://lh3.googleusercontent.com/a-/AOh14GjBqpN45B55kmm0XqHm953XqyxwQRMXQ71QKMyQHQ=s64",
      "userId": "05429422070826167455"
     },
     "user_tz": -270
    },
    "id": "O98kiQAYxiA_"
   },
   "outputs": [],
   "source": [
    "splitted_trials['broadband'] = splitted_trials.pop('raw')"
   ]
  },
  {
   "cell_type": "code",
   "execution_count": 13,
   "id": "y_WmcvEix0tz",
   "metadata": {
    "colab": {
     "base_uri": "https://localhost:8080/"
    },
    "executionInfo": {
     "elapsed": 4,
     "status": "ok",
     "timestamp": 1627725470512,
     "user": {
      "displayName": "AmirAli Mirian",
      "photoUrl": "https://lh3.googleusercontent.com/a-/AOh14GjBqpN45B55kmm0XqHm953XqyxwQRMXQ71QKMyQHQ=s64",
      "userId": "05429422070826167455"
     },
     "user_tz": -270
    },
    "id": "y_WmcvEix0tz",
    "outputId": "ffd0d89e-5017-42f2-ce69-753e9c8f28fd"
   },
   "outputs": [
    {
     "data": {
      "text/plain": [
       "dict_keys(['alpha', 'beta', 'delta', 'gamma', 'theta', 'broadband'])"
      ]
     },
     "execution_count": 13,
     "metadata": {},
     "output_type": "execute_result"
    }
   ],
   "source": [
    "splitted_trials.keys()"
   ]
  },
  {
   "cell_type": "code",
   "execution_count": 14,
   "id": "3ff212d5",
   "metadata": {
    "colab": {
     "base_uri": "https://localhost:8080/"
    },
    "executionInfo": {
     "elapsed": 368,
     "status": "ok",
     "timestamp": 1627725472052,
     "user": {
      "displayName": "AmirAli Mirian",
      "photoUrl": "https://lh3.googleusercontent.com/a-/AOh14GjBqpN45B55kmm0XqHm953XqyxwQRMXQ71QKMyQHQ=s64",
      "userId": "05429422070826167455"
     },
     "user_tz": -270
    },
    "id": "3ff212d5",
    "outputId": "58f4a897-d588-44c9-901a-7569e451eb75"
   },
   "outputs": [
    {
     "data": {
      "text/plain": [
       "(3720, 500, 27)"
      ]
     },
     "execution_count": 14,
     "metadata": {},
     "output_type": "execute_result"
    }
   ],
   "source": [
    "splitted_trials['alpha'].shape"
   ]
  },
  {
   "cell_type": "markdown",
   "id": "263c27fb",
   "metadata": {
    "id": "263c27fb"
   },
   "source": [
    "### Splited Frequency result"
   ]
  },
  {
   "cell_type": "code",
   "execution_count": 15,
   "id": "3bb3e902",
   "metadata": {
    "executionInfo": {
     "elapsed": 389,
     "status": "ok",
     "timestamp": 1627725475990,
     "user": {
      "displayName": "AmirAli Mirian",
      "photoUrl": "https://lh3.googleusercontent.com/a-/AOh14GjBqpN45B55kmm0XqHm953XqyxwQRMXQ71QKMyQHQ=s64",
      "userId": "05429422070826167455"
     },
     "user_tz": -270
    },
    "id": "3bb3e902"
   },
   "outputs": [],
   "source": [
    "data_index = np.random.randint(3720, size=(1))[0]\n",
    "channel_index = np.random.randint(27, size=(1))[0]"
   ]
  },
  {
   "cell_type": "code",
   "execution_count": 17,
   "id": "17f8f6d4",
   "metadata": {
    "colab": {
     "base_uri": "https://localhost:8080/",
     "height": 1000
    },
    "executionInfo": {
     "elapsed": 2820,
     "status": "ok",
     "timestamp": 1627725480075,
     "user": {
      "displayName": "AmirAli Mirian",
      "photoUrl": "https://lh3.googleusercontent.com/a-/AOh14GjBqpN45B55kmm0XqHm953XqyxwQRMXQ71QKMyQHQ=s64",
      "userId": "05429422070826167455"
     },
     "user_tz": -270
    },
    "id": "17f8f6d4",
    "outputId": "60fdf4ca-a298-4085-dd32-109c982687f8",
    "scrolled": false
   },
   "outputs": [
    {
     "data": {
      "image/png": "[encoded data removed]",
      "text/plain": [
       "<Figure size 1440x1440 with 6 Axes>"
      ]
     },
     "metadata": {
      "needs_background": "light"
     },
     "output_type": "display_data"
    }
   ],
   "source": [
    "fig, axis = plt.subplots(6, 1, figsize=(20, 20))\n",
    "x = np.linspace(0, 2, 500)\n",
    "\n",
    "axis[0].plot(x, splitted_trials['broadband'][data_index, :, channel_index])\n",
    "axis[0].title.set_text('Broadband data')\n",
    "\n",
    "axis[1].plot(x, splitted_trials['delta'][data_index, :, channel_index])\n",
    "axis[1].title.set_text('Delta')\n",
    "\n",
    "axis[2].plot(x, splitted_trials['theta'][data_index, :, channel_index])\n",
    "axis[2].title.set_text('Theta')\n",
    "\n",
    "axis[3].plot(x, splitted_trials['alpha'][data_index, :, channel_index])\n",
    "axis[3].title.set_text('Alpha')\n",
    "\n",
    "axis[4].plot(x, splitted_trials['beta'][data_index, :, channel_index])\n",
    "axis[4].title.set_text('Beta')\n",
    "\n",
    "axis[5].plot(x, splitted_trials['gamma'][data_index, :, channel_index])\n",
    "axis[5].title.set_text('Gamma')\n",
    "\n",
    "plt.subplots_adjust(wspace=0.4, hspace=0.4)\n",
    "plt.savefig('images/splitted_frequency_results.png')"
   ]
  },
  {
   "cell_type": "markdown",
   "id": "KJRGDlu4vtOd",
   "metadata": {
    "id": "KJRGDlu4vtOd"
   },
   "source": [
    "### Outputs"
   ]
  },
  {
   "cell_type": "code",
   "execution_count": 18,
   "id": "jZorKk-tviWt",
   "metadata": {
    "executionInfo": {
     "elapsed": 378,
     "status": "ok",
     "timestamp": 1627725486547,
     "user": {
      "displayName": "AmirAli Mirian",
      "photoUrl": "https://lh3.googleusercontent.com/a-/AOh14GjBqpN45B55kmm0XqHm953XqyxwQRMXQ71QKMyQHQ=s64",
      "userId": "05429422070826167455"
     },
     "user_tz": -270
    },
    "id": "jZorKk-tviWt"
   },
   "outputs": [],
   "source": [
    "outputs = sio.loadmat('data/clean/clean_info.mat')"
   ]
  },
  {
   "cell_type": "code",
   "execution_count": 19,
   "id": "vrgBjt5r6VLX",
   "metadata": {
    "executionInfo": {
     "elapsed": 431,
     "status": "ok",
     "timestamp": 1627725504069,
     "user": {
      "displayName": "AmirAli Mirian",
      "photoUrl": "https://lh3.googleusercontent.com/a-/AOh14GjBqpN45B55kmm0XqHm953XqyxwQRMXQ71QKMyQHQ=s64",
      "userId": "05429422070826167455"
     },
     "user_tz": -270
    },
    "id": "vrgBjt5r6VLX"
   },
   "outputs": [],
   "source": [
    "del outputs['__header__']\n",
    "del outputs['__version__']\n",
    "del outputs['__globals__']"
   ]
  },
  {
   "cell_type": "code",
   "execution_count": 20,
   "id": "Rapcjhnhv877",
   "metadata": {
    "colab": {
     "base_uri": "https://localhost:8080/"
    },
    "executionInfo": {
     "elapsed": 3,
     "status": "ok",
     "timestamp": 1627725504648,
     "user": {
      "displayName": "AmirAli Mirian",
      "photoUrl": "https://lh3.googleusercontent.com/a-/AOh14GjBqpN45B55kmm0XqHm953XqyxwQRMXQ71QKMyQHQ=s64",
      "userId": "05429422070826167455"
     },
     "user_tz": -270
    },
    "id": "Rapcjhnhv877",
    "outputId": "492e460c-f979-42f0-f83c-4ccf26c3dccf"
   },
   "outputs": [
    {
     "data": {
      "text/plain": [
       "dict_keys(['age', 'gender', 'has_pd', 'taken_med', 'UPDRS'])"
      ]
     },
     "execution_count": 20,
     "metadata": {},
     "output_type": "execute_result"
    }
   ],
   "source": [
    "outputs.keys()"
   ]
  },
  {
   "cell_type": "code",
   "execution_count": 21,
   "id": "MJXXCAHj5SCs",
   "metadata": {
    "executionInfo": {
     "elapsed": 369,
     "status": "ok",
     "timestamp": 1627725520370,
     "user": {
      "displayName": "AmirAli Mirian",
      "photoUrl": "https://lh3.googleusercontent.com/a-/AOh14GjBqpN45B55kmm0XqHm953XqyxwQRMXQ71QKMyQHQ=s64",
      "userId": "05429422070826167455"
     },
     "user_tz": -270
    },
    "id": "MJXXCAHj5SCs"
   },
   "outputs": [],
   "source": [
    "for key in outputs.keys():\n",
    "    outputs[key] = outputs[key].T"
   ]
  },
  {
   "cell_type": "code",
   "execution_count": 22,
   "id": "LaVr88Lb5mMw",
   "metadata": {
    "colab": {
     "base_uri": "https://localhost:8080/"
    },
    "executionInfo": {
     "elapsed": 8,
     "status": "ok",
     "timestamp": 1627725521790,
     "user": {
      "displayName": "AmirAli Mirian",
      "photoUrl": "https://lh3.googleusercontent.com/a-/AOh14GjBqpN45B55kmm0XqHm953XqyxwQRMXQ71QKMyQHQ=s64",
      "userId": "05429422070826167455"
     },
     "user_tz": -270
    },
    "id": "LaVr88Lb5mMw",
    "outputId": "7ad1a3e4-24ea-4178-85c2-06aa127a3edb"
   },
   "outputs": [
    {
     "data": {
      "text/plain": [
       "(3720, 1)"
      ]
     },
     "execution_count": 22,
     "metadata": {},
     "output_type": "execute_result"
    }
   ],
   "source": [
    "outputs['age'].shape"
   ]
  },
  {
   "cell_type": "markdown",
   "id": "HoKkFR0dtf71",
   "metadata": {
    "id": "HoKkFR0dtf71"
   },
   "source": [
    "### Split Healthy and PD patients"
   ]
  },
  {
   "cell_type": "markdown",
   "id": "IzwuM1rPtzv_",
   "metadata": {
    "id": "IzwuM1rPtzv_"
   },
   "source": [
    "There were 22 healty patients and 20 pd patients. PD patients had 2 type med off and med on. So from 3720 trials, first 1320 are healty, next 1200 are PD patients med off, and the last 1200 are PD patients med on."
   ]
  },
  {
   "cell_type": "code",
   "execution_count": 23,
   "id": "skvgbFtntzWE",
   "metadata": {
    "executionInfo": {
     "elapsed": 707,
     "status": "ok",
     "timestamp": 1627725526212,
     "user": {
      "displayName": "AmirAli Mirian",
      "photoUrl": "https://lh3.googleusercontent.com/a-/AOh14GjBqpN45B55kmm0XqHm953XqyxwQRMXQ71QKMyQHQ=s64",
      "userId": "05429422070826167455"
     },
     "user_tz": -270
    },
    "id": "skvgbFtntzWE"
   },
   "outputs": [],
   "source": [
    "HC = {\n",
    "    key : splitted_trials[key][:1320] for key in splitted_trials.keys()\n",
    "}"
   ]
  },
  {
   "cell_type": "code",
   "execution_count": 24,
   "id": "iGBMMzgctx6U",
   "metadata": {
    "executionInfo": {
     "elapsed": 6,
     "status": "ok",
     "timestamp": 1627725526862,
     "user": {
      "displayName": "AmirAli Mirian",
      "photoUrl": "https://lh3.googleusercontent.com/a-/AOh14GjBqpN45B55kmm0XqHm953XqyxwQRMXQ71QKMyQHQ=s64",
      "userId": "05429422070826167455"
     },
     "user_tz": -270
    },
    "id": "iGBMMzgctx6U"
   },
   "outputs": [],
   "source": [
    "PD_off = {\n",
    "    key : splitted_trials[key][1320:2520] for key in splitted_trials.keys()\n",
    "}"
   ]
  },
  {
   "cell_type": "code",
   "execution_count": 25,
   "id": "bqr9uGPrwQ-q",
   "metadata": {
    "executionInfo": {
     "elapsed": 6,
     "status": "ok",
     "timestamp": 1627725526863,
     "user": {
      "displayName": "AmirAli Mirian",
      "photoUrl": "https://lh3.googleusercontent.com/a-/AOh14GjBqpN45B55kmm0XqHm953XqyxwQRMXQ71QKMyQHQ=s64",
      "userId": "05429422070826167455"
     },
     "user_tz": -270
    },
    "id": "bqr9uGPrwQ-q"
   },
   "outputs": [],
   "source": [
    "PD_on = {\n",
    "    key : splitted_trials[key][2520:] for key in splitted_trials.keys()\n",
    "}"
   ]
  },
  {
   "cell_type": "code",
   "execution_count": 26,
   "id": "qqI_l-LYwcVI",
   "metadata": {
    "executionInfo": {
     "elapsed": 4,
     "status": "ok",
     "timestamp": 1627725527256,
     "user": {
      "displayName": "AmirAli Mirian",
      "photoUrl": "https://lh3.googleusercontent.com/a-/AOh14GjBqpN45B55kmm0XqHm953XqyxwQRMXQ71QKMyQHQ=s64",
      "userId": "05429422070826167455"
     },
     "user_tz": -270
    },
    "id": "qqI_l-LYwcVI"
   },
   "outputs": [],
   "source": [
    "HC_labels = {\n",
    "    key : outputs[key][:1320] for key in outputs.keys()\n",
    "}"
   ]
  },
  {
   "cell_type": "code",
   "execution_count": 27,
   "id": "Q7sIkihJwml9",
   "metadata": {
    "executionInfo": {
     "elapsed": 5,
     "status": "ok",
     "timestamp": 1627725527257,
     "user": {
      "displayName": "AmirAli Mirian",
      "photoUrl": "https://lh3.googleusercontent.com/a-/AOh14GjBqpN45B55kmm0XqHm953XqyxwQRMXQ71QKMyQHQ=s64",
      "userId": "05429422070826167455"
     },
     "user_tz": -270
    },
    "id": "Q7sIkihJwml9"
   },
   "outputs": [],
   "source": [
    "PD_off_labels = {\n",
    "    key : outputs[key][1320:2520] for key in outputs.keys()\n",
    "}"
   ]
  },
  {
   "cell_type": "code",
   "execution_count": 28,
   "id": "eCFWgIc8wv0p",
   "metadata": {
    "executionInfo": {
     "elapsed": 5,
     "status": "ok",
     "timestamp": 1627725527258,
     "user": {
      "displayName": "AmirAli Mirian",
      "photoUrl": "https://lh3.googleusercontent.com/a-/AOh14GjBqpN45B55kmm0XqHm953XqyxwQRMXQ71QKMyQHQ=s64",
      "userId": "05429422070826167455"
     },
     "user_tz": -270
    },
    "id": "eCFWgIc8wv0p"
   },
   "outputs": [],
   "source": [
    "PD_on_labels = {\n",
    "    key : outputs[key][2520:] for key in outputs.keys()\n",
    "}"
   ]
  },
  {
   "cell_type": "code",
   "execution_count": 29,
   "id": "roka5VJoynj-",
   "metadata": {
    "executionInfo": {
     "elapsed": 375,
     "status": "ok",
     "timestamp": 1627725532794,
     "user": {
      "displayName": "AmirAli Mirian",
      "photoUrl": "https://lh3.googleusercontent.com/a-/AOh14GjBqpN45B55kmm0XqHm953XqyxwQRMXQ71QKMyQHQ=s64",
      "userId": "05429422070826167455"
     },
     "user_tz": -270
    },
    "id": "roka5VJoynj-"
   },
   "outputs": [],
   "source": [
    "inputs = {\n",
    "    'HC': HC, \n",
    "    'PD_off': PD_off, \n",
    "    'PD_on': PD_on\n",
    "}"
   ]
  },
  {
   "cell_type": "code",
   "execution_count": 30,
   "id": "5nIkOC3hwyPy",
   "metadata": {
    "executionInfo": {
     "elapsed": 2,
     "status": "ok",
     "timestamp": 1627725534232,
     "user": {
      "displayName": "AmirAli Mirian",
      "photoUrl": "https://lh3.googleusercontent.com/a-/AOh14GjBqpN45B55kmm0XqHm953XqyxwQRMXQ71QKMyQHQ=s64",
      "userId": "05429422070826167455"
     },
     "user_tz": -270
    },
    "id": "5nIkOC3hwyPy"
   },
   "outputs": [],
   "source": [
    "outputs = {\n",
    "    'HC_labels': HC_labels,\n",
    "    'PD_off_labels': PD_off_labels, \n",
    "    'PD_on_labels': PD_on_labels\n",
    "}"
   ]
  },
  {
   "cell_type": "code",
   "execution_count": 32,
   "id": "9lduDDqGy150",
   "metadata": {
    "executionInfo": {
     "elapsed": 35398,
     "status": "ok",
     "timestamp": 1627725570099,
     "user": {
      "displayName": "AmirAli Mirian",
      "photoUrl": "https://lh3.googleusercontent.com/a-/AOh14GjBqpN45B55kmm0XqHm953XqyxwQRMXQ71QKMyQHQ=s64",
      "userId": "05429422070826167455"
     },
     "user_tz": -270
    },
    "id": "9lduDDqGy150"
   },
   "outputs": [],
   "source": [
    "with open('data/clean/inputs.pickle', 'wb+') as f:\n",
    "  pickle.dump(inputs, f)"
   ]
  },
  {
   "cell_type": "code",
   "execution_count": 33,
   "id": "-Xfxq1KV3Tnz",
   "metadata": {
    "executionInfo": {
     "elapsed": 16,
     "status": "ok",
     "timestamp": 1627725570101,
     "user": {
      "displayName": "AmirAli Mirian",
      "photoUrl": "https://lh3.googleusercontent.com/a-/AOh14GjBqpN45B55kmm0XqHm953XqyxwQRMXQ71QKMyQHQ=s64",
      "userId": "05429422070826167455"
     },
     "user_tz": -270
    },
    "id": "-Xfxq1KV3Tnz"
   },
   "outputs": [],
   "source": [
    "with open('data/clean/labels.pickle', 'wb+') as f:\n",
    "  pickle.dump(outputs, f)"
   ]
  }
 ],
 "metadata": {
  "colab": {
   "collapsed_sections": [
    "661bcf59"
   ],
   "name": "data_parocessing.ipynb",
   "provenance": []
  },
  "kernelspec": {
   "display_name": "Python 3",
   "language": "python",
   "name": "python3"
  },
  "language_info": {
   "codemirror_mode": {
    "name": "ipython",
    "version": 3
   },
   "file_extension": ".py",
   "mimetype": "text/x-python",
   "name": "python",
   "nbconvert_exporter": "python",
   "pygments_lexer": "ipython3",
   "version": "3.6.9"
  }
 },
 "nbformat": 4,
 "nbformat_minor": 5
}
